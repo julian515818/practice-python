{
 "cells": [
  {
   "cell_type": "code",
   "execution_count": 16,
   "metadata": {},
   "outputs": [
    {
     "name": "stdout",
     "output_type": "stream",
     "text": [
      "万\n",
      "両\n",
      "65\n",
      "0x4e16\n",
      "0x5289\n"
     ]
    }
   ],
   "source": [
    "# encoding=utf-8\n",
    "# Program Name: str04.ipynb\n",
    "# Programmer: 劉志俊\n",
    "# Date: 2020/02/20\n",
    "# Python UniCode 字串函數: chr(int) 與 ord(char)\n",
    "\n",
    "# chr(int) 回傳整數參數 int 所編碼的 ASCII 或 UniCode 字元\n",
    "print(chr(0x4E07))\n",
    "print(chr(0x4E21))\n",
    "\n",
    "# ord(char) 回傳字元參數 char 的 ASCII 或 UniCode 編碼\n",
    "print(ord(\"A\"))\n",
    "print(hex(ord(\"世\")))  # hex() 十六進位轉換函數\n",
    "print(hex(ord(\"劉\")))"
   ]
  },
  {
   "cell_type": "code",
   "execution_count": null,
   "metadata": {},
   "outputs": [],
   "source": []
  },
  {
   "cell_type": "code",
   "execution_count": null,
   "metadata": {},
   "outputs": [],
   "source": []
  }
 ],
 "metadata": {
  "kernelspec": {
   "display_name": "Python 3",
   "language": "python",
   "name": "python3"
  },
  "language_info": {
   "codemirror_mode": {
    "name": "ipython",
    "version": 3
   },
   "file_extension": ".py",
   "mimetype": "text/x-python",
   "name": "python",
   "nbconvert_exporter": "python",
   "pygments_lexer": "ipython3",
   "version": "3.7.3"
  }
 },
 "nbformat": 4,
 "nbformat_minor": 2
}
