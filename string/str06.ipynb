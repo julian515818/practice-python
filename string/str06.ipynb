{
 "cells": [
  {
   "cell_type": "code",
   "execution_count": 27,
   "metadata": {},
   "outputs": [
    {
     "name": "stdout",
     "output_type": "stream",
     "text": [
      "Python是很棒的程式語言! 👍\n",
      "今天天氣不錯!!! 😄\n",
      "Python 很棒! :thumbs_up:\n",
      "心情很好喔! :grinning_face_with_smiling_eyes::rolling_on_the_floor_laughing:\n",
      "😀\n",
      "🤣\n"
     ]
    }
   ],
   "source": [
    "# encoding=utf-8\n",
    "# Program Name: str07.ipynb\n",
    "# Programmer: 劉志俊\n",
    "# Date: 2020/02/20\n",
    "# emoji 表情符號 Python 套件\n",
    "\n",
    "import emoji  # 匯入 emoji 表情符號 Python 套件\n",
    "\n",
    "# emojize() 印出表情符號\n",
    "print(emoji.emojize('Python是很棒的程式語言! :thumbs_up:'))       # 使用基本表情符號\n",
    "print(emoji.emojize('今天天氣不錯!!! :smile:', use_aliases=True)) # 使用擴充表情符號\n",
    "\n",
    "# demojize() 查詢表情符號名稱\n",
    "print(emoji.demojize('Python 很棒! 👍'))\n",
    "print(emoji.demojize('心情很好喔! 😄🤣')) \n",
    "\n",
    "# 用 UniCode 印出表情符號\n",
    "print(\"\\U0001F600\") # 露齒笑  (grinning face, UniCode: 1F600)\n",
    "print(\"\\U0001F923\") # 笑到打滾  (rolling on the floor laughing, UniCode: 1F923)  "
   ]
  },
  {
   "cell_type": "code",
   "execution_count": null,
   "metadata": {},
   "outputs": [],
   "source": [
    "pip install emoji"
   ]
  },
  {
   "cell_type": "code",
   "execution_count": null,
   "metadata": {},
   "outputs": [],
   "source": []
  }
 ],
 "metadata": {
  "kernelspec": {
   "display_name": "Python 3",
   "language": "python",
   "name": "python3"
  },
  "language_info": {
   "codemirror_mode": {
    "name": "ipython",
    "version": 3
   },
   "file_extension": ".py",
   "mimetype": "text/x-python",
   "name": "python",
   "nbconvert_exporter": "python",
   "pygments_lexer": "ipython3",
   "version": "3.7.3"
  }
 },
 "nbformat": 4,
 "nbformat_minor": 2
}
