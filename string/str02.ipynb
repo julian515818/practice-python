{
 "cells": [
  {
   "cell_type": "code",
   "execution_count": 6,
   "metadata": {},
   "outputs": [
    {
     "name": "stdout",
     "output_type": "stream",
     "text": [
      "王維 鹿柴\n",
      "空山不見人\n",
      "但聞人語響\n",
      "返景入深林\n",
      "復照青苔上\n"
     ]
    }
   ],
   "source": [
    "# encoding=utf-8\n",
    "# Program Name: str02.ipynb\n",
    "# Programmer: 劉志俊\n",
    "# Date: 2020/02/20\n",
    "# Python 字串型態: 三引號多行字串\n",
    "\n",
    "# 多行字串\n",
    "multiline_str = \"\"\"王維 鹿柴\n",
    "空山不見人\n",
    "但聞人語響\n",
    "返景入深林\n",
    "復照青苔上\"\"\"\n",
    "\n",
    "print(multiline_str)"
   ]
  },
  {
   "cell_type": "code",
   "execution_count": null,
   "metadata": {},
   "outputs": [],
   "source": []
  },
  {
   "cell_type": "code",
   "execution_count": null,
   "metadata": {},
   "outputs": [],
   "source": []
  }
 ],
 "metadata": {
  "kernelspec": {
   "display_name": "Python 3",
   "language": "python",
   "name": "python3"
  },
  "language_info": {
   "codemirror_mode": {
    "name": "ipython",
    "version": 3
   },
   "file_extension": ".py",
   "mimetype": "text/x-python",
   "name": "python",
   "nbconvert_exporter": "python",
   "pygments_lexer": "ipython3",
   "version": "3.7.3"
  }
 },
 "nbformat": 4,
 "nbformat_minor": 2
}
