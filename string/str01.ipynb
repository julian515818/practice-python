{
 "cells": [
  {
   "cell_type": "code",
   "execution_count": 1,
   "metadata": {},
   "outputs": [
    {
     "name": "stdout",
     "output_type": "stream",
     "text": [
      "單引號中文字串\n",
      "雙引號中文字串\n"
     ]
    }
   ],
   "source": [
    "# encoding=utf-8\n",
    "# Program Name: str01.ipynb\n",
    "# Programmer: 劉志俊\n",
    "# Date: 2020/02/20\n",
    "# Python 字串型態: 單引號, 雙引號, print()\n",
    "\n",
    "# Python 字串型態(str)\n",
    "string1 = '單引號中文字串'  \n",
    "string2 = \"雙引號中文字串\"\n",
    "\n",
    "print(string1)\n",
    "print(string2)"
   ]
  },
  {
   "cell_type": "code",
   "execution_count": null,
   "metadata": {},
   "outputs": [],
   "source": []
  },
  {
   "cell_type": "code",
   "execution_count": null,
   "metadata": {},
   "outputs": [],
   "source": []
  }
 ],
 "metadata": {
  "kernelspec": {
   "display_name": "Python 3",
   "language": "python",
   "name": "python3"
  },
  "language_info": {
   "codemirror_mode": {
    "name": "ipython",
    "version": 3
   },
   "file_extension": ".py",
   "mimetype": "text/x-python",
   "name": "python",
   "nbconvert_exporter": "python",
   "pygments_lexer": "ipython3",
   "version": "3.7.3"
  }
 },
 "nbformat": 4,
 "nbformat_minor": 2
}
