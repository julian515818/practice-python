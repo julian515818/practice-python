{
 "cells": [
  {
   "cell_type": "code",
   "execution_count": 1,
   "metadata": {},
   "outputs": [
    {
     "name": "stdout",
     "output_type": "stream",
     "text": [
      "整數 <class 'int'>\n",
      "浮點數 <class 'float'>\n",
      "字串 <class 'str'>\n",
      "布林 <class 'bool'>\n"
     ]
    }
   ],
   "source": [
    "# encoding=utf-8\n",
    "# Programmer: 劉志俊\n",
    "# Date: 2020/02/17\n",
    "# Python 基本資料型態查詢: type()\n",
    "\n",
    "myInt = 10\n",
    "myFloat = 3.1416\n",
    "myString = \"Hello, World!\"\n",
    "myBool = True\n",
    "\n",
    "print(\"整數\", type(myInt))\n",
    "print(\"浮點數\", type(myFloat))\n",
    "print(\"字串\", type(myString))\n",
    "print(\"布林\", type(myBool))"
   ]
  },
  {
   "cell_type": "code",
   "execution_count": null,
   "metadata": {},
   "outputs": [],
   "source": []
  }
 ],
 "metadata": {
  "kernelspec": {
   "display_name": "Python 3",
   "language": "python",
   "name": "python3"
  },
  "language_info": {
   "codemirror_mode": {
    "name": "ipython",
    "version": 3
   },
   "file_extension": ".py",
   "mimetype": "text/x-python",
   "name": "python",
   "nbconvert_exporter": "python",
   "pygments_lexer": "ipython3",
   "version": "3.7.3"
  }
 },
 "nbformat": 4,
 "nbformat_minor": 2
}
