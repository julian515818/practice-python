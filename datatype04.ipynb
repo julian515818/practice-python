{
 "cells": [
  {
   "cell_type": "code",
   "execution_count": null,
   "metadata": {},
   "outputs": [],
   "source": [
    "# encoding=utf-8\n",
    "# Programmer: 劉志俊\n",
    "# Date: 2020/02/17\n",
    "# Python 基本資料型態: int 與 float 的範圍\n",
    "\n",
    "googol = 10 ** 100  #  1 古戈爾 = 1e100 = 10**100 = 2**332 = 70!\n",
    "                    #          = 10,000,000,000,000,000,000,000,000,000,000,000,000,000,000,000,000,000,000,000,000,000,000,000,000,000,000,000,000,000,000,000,000,000\n",
    "                    #  古戈爾比已知宇宙中基本粒子數目(1e72 ~ 1e87)要多\n",
    "        \n",
    "print(\"1 古戈爾 = \", googol)\n",
    "print(format(googol, ','))\n"
   ]
  },
  {
   "cell_type": "code",
   "execution_count": null,
   "metadata": {},
   "outputs": [],
   "source": []
  },
  {
   "cell_type": "code",
   "execution_count": null,
   "metadata": {},
   "outputs": [],
   "source": []
  }
 ],
 "metadata": {
  "kernelspec": {
   "display_name": "Python 3",
   "language": "python",
   "name": "python3"
  },
  "language_info": {
   "codemirror_mode": {
    "name": "ipython",
    "version": 3
   },
   "file_extension": ".py",
   "mimetype": "text/x-python",
   "name": "python",
   "nbconvert_exporter": "python",
   "pygments_lexer": "ipython3",
   "version": "3.7.3"
  }
 },
 "nbformat": 4,
 "nbformat_minor": 2
}
