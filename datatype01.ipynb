{
 "cells": [
  {
   "cell_type": "code",
   "execution_count": 1,
   "metadata": {},
   "outputs": [
    {
     "name": "stdout",
     "output_type": "stream",
     "text": [
      "整數 10\n",
      "浮點數 3.1416\n",
      "字串 Hello, World!\n",
      "布林 True\n"
     ]
    }
   ],
   "source": [
    "# encoding=utf-8\n",
    "# Programmer: 劉志俊\n",
    "# Date: 2020/02/17\n",
    "# Python 基本資料型態: int, float, str, bool\n",
    "\n",
    "myInt = 10\n",
    "myFloat = 3.1416\n",
    "myString = \"Hello, World!\"\n",
    "myBool = True\n",
    "\n",
    "print(\"整數\", myInt)\n",
    "print(\"浮點數\", myFloat)\n",
    "print(\"字串\", myString)\n",
    "print(\"布林\", myBool)"
   ]
  },
  {
   "cell_type": "code",
   "execution_count": null,
   "metadata": {},
   "outputs": [],
   "source": []
  },
  {
   "cell_type": "code",
   "execution_count": null,
   "metadata": {},
   "outputs": [],
   "source": []
  }
 ],
 "metadata": {
  "kernelspec": {
   "display_name": "Python 3",
   "language": "python",
   "name": "python3"
  },
  "language_info": {
   "codemirror_mode": {
    "name": "ipython",
    "version": 3
   },
   "file_extension": ".py",
   "mimetype": "text/x-python",
   "name": "python",
   "nbconvert_exporter": "python",
   "pygments_lexer": "ipython3",
   "version": "3.7.3"
  }
 },
 "nbformat": 4,
 "nbformat_minor": 2
}
