{
 "cells": [
  {
   "cell_type": "code",
   "execution_count": 1,
   "metadata": {},
   "outputs": [
    {
     "name": "stdout",
     "output_type": "stream",
     "text": [
      "整數 <class 'int'> 1\n",
      "浮點數 <class 'float'> 1.0\n",
      "字串 <class 'str'> 3.1416\n",
      "布林 <class 'bool'> True\n"
     ]
    }
   ],
   "source": [
    "# encoding=utf-8\n",
    "# Programmer: 劉志俊\n",
    "# Date: 2020/02/17\n",
    "# Python 基本資料型態轉換: int(), float(), str(), bool()\n",
    "\n",
    "myInt = 1\n",
    "myFloat = 3.1416\n",
    "myString = str(myFloat)\n",
    "myBool = bool(myInt)\n",
    "myFloat = float(myInt)\n",
    "\n",
    "print(\"整數\", type(myInt), myInt)\n",
    "print(\"浮點數\", type(myFloat), myFloat)\n",
    "print(\"字串\", type(myString), myString)\n",
    "print(\"布林\", type(myBool), myBool)"
   ]
  },
  {
   "cell_type": "code",
   "execution_count": null,
   "metadata": {},
   "outputs": [],
   "source": []
  },
  {
   "cell_type": "code",
   "execution_count": null,
   "metadata": {},
   "outputs": [],
   "source": []
  },
  {
   "cell_type": "code",
   "execution_count": null,
   "metadata": {},
   "outputs": [],
   "source": []
  },
  {
   "cell_type": "code",
   "execution_count": null,
   "metadata": {},
   "outputs": [],
   "source": []
  },
  {
   "cell_type": "code",
   "execution_count": null,
   "metadata": {},
   "outputs": [],
   "source": []
  },
  {
   "cell_type": "code",
   "execution_count": null,
   "metadata": {},
   "outputs": [],
   "source": []
  }
 ],
 "metadata": {
  "kernelspec": {
   "display_name": "Python 3",
   "language": "python",
   "name": "python3"
  },
  "language_info": {
   "codemirror_mode": {
    "name": "ipython",
    "version": 3
   },
   "file_extension": ".py",
   "mimetype": "text/x-python",
   "name": "python",
   "nbconvert_exporter": "python",
   "pygments_lexer": "ipython3",
   "version": "3.7.3"
  }
 },
 "nbformat": 4,
 "nbformat_minor": 2
}
